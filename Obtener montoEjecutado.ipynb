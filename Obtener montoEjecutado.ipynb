{
 "cells": [
  {
   "cell_type": "markdown",
   "id": "5818e837",
   "metadata": {},
   "source": [
    "# ANÁLISIS MULTIANUAL DE MONTO EJECUTADO POR OBJETO DE GASTO Y MES (CON FECHA DE CORTE MÁXIMA)\n",
    "\n",
    "Esta sección realiza un análisis exhaustivo del presupuesto ejecutado para todos los objetos de gasto, considerando todos los años disponibles en el dataset (`df_all_years`). El objetivo es obtener, para cada combinación de año, objeto de gasto y mes, el monto ejecutado correspondiente a la fecha de corte más reciente publicada para ese grupo. \n",
    "\n",
    "**Metodología:**\n",
    "- Se filtran los registros con `montoEjecutado > 0`.\n",
    "- Para cada año, objeto de gasto y mes, se identifica la fechaCorte máxima (última actualización disponible).\n",
    "- Se seleccionan todos los registros correspondientes a esa fecha de corte máxima.\n",
    "- Se suman los montos ejecutados por año, objeto de gasto y mes, generando un reporte detallado y un resumen anual por objeto de gasto.\n",
    "- Se calcula el total general ejecutado para todos los años y objetos de gasto.\n",
    "\n",
    "**Utilidad:**\n",
    "- Permite comparar la ejecución presupuestaria real consolidada por objeto de gasto y año, utilizando siempre la información más actualizada disponible para cada mes.\n",
    "- Es especialmente útil para auditoría, control de gestión y conciliación con cifras oficiales publicadas.\n",
    "- El reporte final facilita la visualización de la evolución y distribución del gasto público a lo largo de los años y entre diferentes conceptos."
   ]
  },
  {
   "cell_type": "code",
   "execution_count": null,
   "id": "32256cae",
   "metadata": {},
   "outputs": [],
   "source": [
    "import pandas as pd\n",
    "from dotenv import load_dotenv\n",
    "import os\n",
    "\n",
    "# Load environment variables from .env file\n",
    "load_dotenv()\n",
    "\n",
    "csv_path = os.getenv(\"csv_path\")\n",
    "# Update the filename if needed\n",
    "\n",
    "# Read the CSV file into a DataFrame\n",
    "df_all_years = pd.read_csv(csv_path, encoding=\"utf-8\", sep=\",\")"
   ]
  },
  {
   "cell_type": "code",
   "execution_count": null,
   "id": "658c36bf",
   "metadata": {},
   "outputs": [],
   "source": [
    "# Filtrar el DataFrame para montoEjecutado > 0 (sin filtrar por año ni objetoGasto)\n",
    "df_multi_filtrado = df_all_years[df_all_years['montoEjecutado'] > 0].copy()\n",
    "df_multi_filtrado.sort_values([\"anio\", \"objetoGasto\", \"mes\"], ascending=[True, True, False], inplace=True)\n",
    "df_multi_filtrado.head()"
   ]
  },
  {
   "cell_type": "markdown",
   "id": "508339f9",
   "metadata": {},
   "source": [
    "### Paso 1: Obtener la fechaCorte máxima por año, objetoGasto y mes"
   ]
  },
  {
   "cell_type": "code",
   "execution_count": null,
   "id": "6302506e",
   "metadata": {},
   "outputs": [],
   "source": [
    "# Para cada año, objetoGasto y mes, obtener la fechaCorte máxima\n",
    "df_fechas_max_multi = df_multi_filtrado.groupby(['anio', 'objetoGasto', 'mes'], as_index=False)['fechaCorte'].max()\n",
    "df_fechas_max_multi.head()"
   ]
  },
  {
   "cell_type": "markdown",
   "id": "fe419a2b",
   "metadata": {},
   "source": [
    "### Paso 2: Filtrar para quedarnos solo con los registros de la fechaCorte máxima de cada año, objetoGasto y mes"
   ]
  },
  {
   "cell_type": "code",
   "execution_count": null,
   "id": "3c0ccd74",
   "metadata": {},
   "outputs": [],
   "source": [
    "# Unir para obtener todos los registros de la fechaCorte máxima de cada año, objetoGasto y mes\n",
    "df_max_fecha_multi = pd.merge(df_multi_filtrado, df_fechas_max_multi, on=['anio', 'objetoGasto', 'mes', 'fechaCorte'])\n",
    "df_max_fecha_multi = df_max_fecha_multi[['anio','objetoGasto','mes','montoEjecutado','montoTransferido','montoPagado','mesCorte','anioCorte','fechaCorte']]\n",
    "df_max_fecha_multi = df_max_fecha_multi.sort_values(['anio','objetoGasto','fechaCorte','mes'], ascending=[True,True,False,False])\n",
    "df_max_fecha_multi.head()"
   ]
  },
  {
   "cell_type": "markdown",
   "id": "74dfa27b",
   "metadata": {},
   "source": [
    "### Paso 3: Sumar montoEjecutado por año, objetoGasto y mes, y mostrar el total general"
   ]
  },
  {
   "cell_type": "code",
   "execution_count": null,
   "id": "bae89651",
   "metadata": {},
   "outputs": [],
   "source": [
    "# Sumar montoEjecutado por año, objetoGasto y mes\n",
    "df_suma_mensual_multi = df_max_fecha_multi.groupby(['anio','objetoGasto','mes'], as_index=False)['montoEjecutado'].sum().sort_values(['anio','objetoGasto','mes'], ascending=[True,True,False])\n",
    "df_suma_mensual_multi"
   ]
  },
  {
   "cell_type": "code",
   "execution_count": null,
   "id": "28583011",
   "metadata": {},
   "outputs": [],
   "source": [
    "# Sumar el total general\n",
    "total_general_multi = df_max_fecha_multi['montoEjecutado'].sum()\n",
    "print(f\"TOTAL GENERAL montoEjecutado (todos los años): {total_general_multi:,.2f}\")"
   ]
  },
  {
   "cell_type": "markdown",
   "id": "0c56c05b",
   "metadata": {},
   "source": [
    "### Paso 4: Reporte resumido por anio y objetoGasto (suma de montoEjecutado)\n",
    "\n",
    "En este paso, se genera un reporte que agrupa los datos por año y objeto de gasto, mostrando la suma total de montoEjecutado para cada combinacón. Esto permite visualizar la ejecución presupuestaria consolidada por concepto y año, facilitando el análisis comparativo y la conciliaciónn con cifras oficiales."
   ]
  },
  {
   "cell_type": "code",
   "execution_count": null,
   "id": "88dee351",
   "metadata": {},
   "outputs": [],
   "source": [
    "# Agrupar por anio y objetoGasto, sumando montoEjecutado\n",
    "reporte_resumido = df_max_fecha_multi.groupby(['anio', 'objetoGasto'], as_index=False)['montoEjecutado'].sum()\n",
    "reporte_resumido = reporte_resumido.sort_values(['anio', 'objetoGasto'])\n",
    "reporte_resumido"
   ]
  },
  {
   "cell_type": "markdown",
   "id": "5778c576",
   "metadata": {},
   "source": [
    "### Paso 5: Reporte anual consolidado (sin agrupar por objetoGasto)\n",
    "\n",
    "En este paso, se genera un reporte que agrupa únicamente por año, sumando el montoEjecutado total de todos los objetos de gasto para cada año. Esto permite visualizar la ejecución presupuestaria consolidada anual, facilitando la comparación global entre años y la conciliación con cifras oficiales."
   ]
  },
  {
   "cell_type": "code",
   "execution_count": null,
   "id": "3073c91a",
   "metadata": {},
   "outputs": [],
   "source": [
    "# Agrupar solo por anio, sumando montoEjecutado de todos los objetos de gasto\n",
    "reporte_anual = df_max_fecha_multi.groupby(['anio'], as_index=False)['montoEjecutado'].sum()\n",
    "reporte_anual = reporte_anual.sort_values(['anio'])\n",
    "reporte_anual"
   ]
  },
  {
   "cell_type": "code",
   "execution_count": null,
   "id": "ee2a4f60",
   "metadata": {},
   "outputs": [],
   "source": [
    "# Mostrar el total general de montoEjecutado para el reporte anual consolidado\n",
    "suma_total_anual = reporte_anual['montoEjecutado'].sum()\n",
    "print(f\"TOTAL GENERAL montoEjecutado (reporte anual consolidado): {suma_total_anual:,.2f}\")"
   ]
  },
  {
   "cell_type": "markdown",
   "id": "cf93eea3",
   "metadata": {},
   "source": [
    "### Paso 5: Reporte resumido por año (suma de montoEjecutado)\n",
    "\n",
    "En este paso, se genera un reporte que agrupa los datos únicamente por año, mostrando la suma total de montoEjecutado para cada año. Esto permite visualizar la ejecución presupuestaria anual consolidada, facilitando el análisis global y la comparación interanual."
   ]
  },
  {
   "cell_type": "code",
   "execution_count": null,
   "id": "38685424",
   "metadata": {},
   "outputs": [],
   "source": [
    "# Agrupar solo por anio, sumando montoEjecutado\n",
    "reporte_anual = df_max_fecha_multi.groupby(['anio'], as_index=False)['montoEjecutado'].sum()\n",
    "reporte_anual = reporte_anual.sort_values(['anio'])\n",
    "reporte_anual\n",
    "\n",
    "# Mostrar el total general de montoEjecutado para el reporte anual\n",
    "suma_total_anual = reporte_anual['montoEjecutado'].sum()\n",
    "print(f\"TOTAL GENERAL montoEjecutado (reporte anual): {suma_total_anual:,.2f}\")"
   ]
  }
 ],
 "metadata": {
  "kernelspec": {
   "display_name": ".venv",
   "language": "python",
   "name": "python3"
  },
  "language_info": {
   "codemirror_mode": {
    "name": "ipython",
    "version": 3
   },
   "file_extension": ".py",
   "mimetype": "text/x-python",
   "name": "python",
   "nbconvert_exporter": "python",
   "pygments_lexer": "ipython3",
   "version": "3.13.2"
  }
 },
 "nbformat": 4,
 "nbformat_minor": 5
}
