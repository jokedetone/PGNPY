{
 "cells": [
  {
   "cell_type": "markdown",
   "id": "f5cf1ec9",
   "metadata": {},
   "source": [
    "# Análisis Consolidado del Presupuesto Vigente Multianual por Objeto de Gasto y Año\n",
    "\n",
    "Este notebook realiza un análisis detallado y automatizado del presupuesto vigente del sector público, utilizando datos históricos de varios años. El objetivo principal es obtener, para cada año y objeto de gasto, el monto vigente correspondiente a la fecha de corte más reciente publicada para el mes de diciembre, permitiendo así una visión consolidada y comparable del cierre presupuestario anual.\n",
    "\n",
    "**¿Qué hace este notebook?**\n",
    "- Carga y prepara los datos presupuestarios multianuales desde un archivo CSV.\n",
    "- Filtra los registros para los años de interés (2019-2024) y el mes de diciembre, asegurando que se utilicen únicamente los datos de cierre anual.\n",
    "- Identifica automáticamente la fecha de corte más reciente para cada año, garantizando que el análisis se base en la información más actualizada disponible.\n",
    "- Calcula el monto vigente total por año y por objeto de gasto, así como los totales generales consolidados.\n",
    "- Genera reportes tabulares que facilitan la comparación interanual y la conciliación con cifras oficiales.\n",
    "\n",
    "**¿Para qué sirve?**\n",
    "- Permite auditar y comparar la evolución del presupuesto vigente a lo largo de los años y entre diferentes conceptos de gasto.\n",
    "- Facilita el control de gestión y la conciliación con reportes oficiales publicados por organismos de control.\n",
    "- Proporciona una base sólida para análisis de tendencias, elaboración de informes y toma de decisiones en materia presupuestaria.\n",
    "\n",
    "**Estructura del notebook:**\n",
    "1. Carga y preparación de datos.\n",
    "2. Filtrado por años y mes de interés.\n",
    "3. Identificación de la fecha de corte máxima por año.\n",
    "4. Cálculo de montos vigentes por objeto de gasto y año.\n",
    "5. Reportes consolidados y totales generales.\n",
    "\n",
    "Este enfoque garantiza transparencia, reproducibilidad y precisión en el análisis del presupuesto vigente multianual."
   ]
  },
  {
   "cell_type": "code",
   "execution_count": null,
   "id": "62f7e9bf",
   "metadata": {},
   "outputs": [],
   "source": [
    "import pandas as pd\n",
    "from dotenv import load_dotenv\n",
    "import os\n",
    "\n",
    "# Cargar variables de entorno desde .env\n",
    "load_dotenv()\n",
    "\n",
    "csv_path = os.getenv(\"csv_path\")\n",
    "# Actualizar el nombre del archivo si es necesario\n",
    "\n",
    "# Leer el archivo CSV en un DataFrame\n",
    "# Asegúrate de que el archivo contiene las columnas: anio, objetoGasto, montoVigente, fechaCorte, mes\n",
    "# Si el archivo ya está cargado como df_all_years, omite esta celda\n",
    "\n",
    "df_all_years = pd.read_csv(csv_path, encoding=\"utf-8\", sep=\",\")"
   ]
  },
  {
   "cell_type": "code",
   "execution_count": null,
   "id": "2ad1383e",
   "metadata": {},
   "outputs": [],
   "source": [
    "# Filtrar para los años de interés y mes 12 (diciembre)\n",
    "df_vigente = df_all_years[(df_all_years['anio'].between(2019, 2024)) & (df_all_years['mes'] == 12)].copy()\n",
    "df_vigente.head()"
   ]
  },
  {
   "cell_type": "markdown",
   "id": "210d5020",
   "metadata": {},
   "source": [
    "### Paso 1: Obtener la fechaCorte máxima por año (para diciembre)"
   ]
  },
  {
   "cell_type": "code",
   "execution_count": null,
   "id": "976127d6",
   "metadata": {},
   "outputs": [],
   "source": [
    "# Para cada año, obtener la fechaCorte máxima (última actualización de diciembre)\n",
    "df_fechas_max = df_vigente.groupby(['anio'], as_index=False)['fechaCorte'].max()\n",
    "df_fechas_max.head()"
   ]
  },
  {
   "cell_type": "markdown",
   "id": "b28fd552",
   "metadata": {},
   "source": [
    "### Paso 2: Filtrar para quedarnos solo con los registros de la fechaCorte máxima de cada año"
   ]
  },
  {
   "cell_type": "code",
   "execution_count": null,
   "id": "332b2bc0",
   "metadata": {},
   "outputs": [],
   "source": [
    "# Unir para obtener todos los registros de la fechaCorte máxima de cada año\n",
    "df_max_fecha = pd.merge(df_vigente, df_fechas_max, on=['anio', 'fechaCorte'])\n",
    "df_max_fecha = df_max_fecha[['anio','objetoGasto','montoVigente','fechaCorte','mes']]\n",
    "df_max_fecha = df_max_fecha.sort_values(['anio','objetoGasto'])\n",
    "df_max_fecha.head()"
   ]
  },
  {
   "cell_type": "markdown",
   "id": "1688e50a",
   "metadata": {},
   "source": [
    "### Paso 3: Sumar montoVigente por año y objetoGasto, y mostrar el total general"
   ]
  },
  {
   "cell_type": "code",
   "execution_count": null,
   "id": "0b4e51ac",
   "metadata": {},
   "outputs": [],
   "source": [
    "# Sumar montoVigente por año y objetoGasto\n",
    "reporte_vigente = df_max_fecha.groupby(['anio','objetoGasto'], as_index=False)['montoVigente'].sum().sort_values(['anio','objetoGasto'])\n",
    "reporte_vigente"
   ]
  },
  {
   "cell_type": "code",
   "execution_count": null,
   "id": "6289f936",
   "metadata": {},
   "outputs": [],
   "source": [
    "# Sumar el total general\n",
    "suma_total_vigente = df_max_fecha['montoVigente'].sum()\n",
    "print(f\"TOTAL GENERAL montoVigente (todos los años): {suma_total_vigente:,.2f}\")"
   ]
  },
  {
   "cell_type": "markdown",
   "id": "1a7e76a7",
   "metadata": {},
   "source": [
    "### Paso 4: Reporte anual consolidado (sin agrupar por objetoGasto)\n",
    "\n",
    "En este paso, se genera un reporte que agrupa únicamente por año, sumando el montoVigente total de todos los objetos de gasto para cada año. Esto permite visualizar el presupuesto vigente consolidado anual y facilita la comparación global entre años."
   ]
  },
  {
   "cell_type": "code",
   "execution_count": null,
   "id": "9994c54b",
   "metadata": {},
   "outputs": [],
   "source": [
    "# Agrupar solo por año, sumando montoVigente de todos los objetos de gasto\n",
    "reporte_anual_vigente = df_max_fecha.groupby(['anio'], as_index=False)['montoVigente'].sum()\n",
    "reporte_anual_vigente = reporte_anual_vigente.sort_values(['anio'])\n",
    "reporte_anual_vigente"
   ]
  },
  {
   "cell_type": "code",
   "execution_count": null,
   "id": "f7c69672",
   "metadata": {},
   "outputs": [],
   "source": [
    "# Mostrar el total general de montoVigente para el reporte anual consolidado\n",
    "suma_total_anual_vigente = reporte_anual_vigente['montoVigente'].sum()\n",
    "print(f\"TOTAL GENERAL montoVigente (reporte anual consolidado): {suma_total_anual_vigente:,.2f}\")"
   ]
  }
 ],
 "metadata": {
  "kernelspec": {
   "display_name": ".venv",
   "language": "python",
   "name": "python3"
  },
  "language_info": {
   "codemirror_mode": {
    "name": "ipython",
    "version": 3
   },
   "file_extension": ".py",
   "mimetype": "text/x-python",
   "name": "python",
   "nbconvert_exporter": "python",
   "pygments_lexer": "ipython3",
   "version": "3.13.3"
  }
 },
 "nbformat": 4,
 "nbformat_minor": 5
}
